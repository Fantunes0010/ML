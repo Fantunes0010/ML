{
 "cells": [
  {
   "cell_type": "markdown",
   "metadata": {},
   "source": [
    "# Assignment Overview\n"
   ]
  },
  {
   "cell_type": "markdown",
   "metadata": {},
   "source": [
    "## Background Story  "
   ]
  },
  {
   "cell_type": "markdown",
   "metadata": {},
   "source": [
    "ABC Insurance, once a market leader, has been noticing a worrying trend in its customer base – a gradual but steady increase in customer churn, alongside a static, sometimes faltering, customer lifetime value. The CEO, in a recent town hall, made it clear: \"Our customers are the lifeblood of our business. Understanding them isn't just part of the job — it is the job.\"\n",
    "\n",
    "Your task comes directly from the top: The CEO, in collaboration with the head of the marketing department, has formally requested a comprehensive analysis to unearth the hidden patterns within the customer data. They believe that the data holds the key to revitalizing ABC Insurance's customer engagement strategy, tailoring product offerings to individual needs, and ultimately turning the tide on churn."
   ]
  },
  {
   "cell_type": "markdown",
   "metadata": {},
   "source": [
    "## Data Description"
   ]
  },
  {
   "cell_type": "markdown",
   "metadata": {},
   "source": [
    "The IT extracted three tables that contains the available information asked by the Head of Marketing: ABC_df_costumer, ABC_df_demographics, ABC_df_termination. \n",
    "\n",
    "Please download the data from: https://novasbe365-my.sharepoint.com/:f:/g/personal/nuno_silva_novasbe_pt/Ekl41SdwtkVOiW52LsaEy5QBo1mjQXHZKwKMeNSJRbEu3g?e=tgkSYD "
   ]
  },
  {
   "cell_type": "markdown",
   "metadata": {},
   "source": [
    "### Dataframes details "
   ]
  },
  {
   "cell_type": "markdown",
   "metadata": {
    "tags": []
   },
   "source": [
    "#### df_customer:\n",
    "\n",
    "Contains details about the customers, including their ID, address, policy start dates, and the current annual amounts for car, health, and house insurance.\n",
    "\n",
    "##### Variables\n",
    "INDIVIDUAL_ID: Unique identifier for the customer.\n",
    "\n",
    "ADDRESS_ID: Address identifier for the customer.\n",
    "\n",
    "CUST_ORIG_DATE: The original date when the customer joined.\n",
    "\n",
    "DATE_OF_BIRTH: Customer's date of birth.\n",
    "\n",
    "SOCIAL_SECURITY_NUMBER: Customer's SSN (for identification).\n",
    "\n",
    "CUST_START_DATE: The start date of the customer's current policy.\n",
    "\n",
    "CURR_ANN_AMT_CAR: Current annual amount paid for car insurance.\n",
    "\n",
    "CURR_ANN_AMT_HEALTH: Current annual amount paid for health insurance.\n",
    "\n",
    "CURR_ANN_AMT_HOUSE: Current annual amount paid for house insurance.\n"
   ]
  },
  {
   "cell_type": "markdown",
   "metadata": {
    "tags": []
   },
   "source": [
    "#### df_demographics:\n",
    "Includes demographic information about the customers, such as income, family status, home ownership, and credit rating.\n",
    "\n",
    "##### Variables\n",
    "\n",
    "INDIVIDUAL_ID: Unique identifier for the customer (links to df_customer).\n",
    "\n",
    "INCOME: Customer's income.\n",
    "\n",
    "HAS_CHILDREN: Indicates if the customer has children.\n",
    "\n",
    "LENGTH_OF_RESIDENCE: How long the customer has lived in their current residence.\n",
    "\n",
    "MARITAL_STATUS: Customer's marital status.\n",
    "\n",
    "HOME_MARKET_VALUE: Market value of the customer's home.\n",
    "\n",
    "HOME_OWNER: Indicates if the customer owns their home.\n",
    "\n",
    "COLLEGE_DEGREE: Indicates if the customer has a college degree.\n",
    "\n",
    "GOOD_CREDIT: Indicates if the customer has good credit.\n",
    "\n",
    "ADVANCED_STUDIES: Indicates if the customer has pursued advanced studies.\n"
   ]
  },
  {
   "cell_type": "markdown",
   "metadata": {
    "tags": []
   },
   "source": [
    "#### df_termination:\n",
    "\n",
    "Lists customers who have suspended their policies, including the suspension date.\n",
    "\n",
    "##### Variables\n",
    "\n",
    "INDIVIDUAL_ID: Unique identifier for the customer (links to df_customer).\n",
    "\n",
    "SUSPD_DATE: The date when the customer's policy was suspended."
   ]
  },
  {
   "cell_type": "markdown",
   "metadata": {},
   "source": [
    "## Question 1: Data Quality and Customer Understanding (30 points)\n",
    "\n",
    "#### Background: Before delving into sophisticated analyses and model building, ensuring the integrity and quality of data is paramount. The provided datasets are critical for understanding ABC Insurance's clientele but may contain issues affecting their utility for further analysis."
   ]
  },
  {
   "cell_type": "markdown",
   "metadata": {},
   "source": [
    "#### Q1.1 Please perform the exploratory data analysis of the data. (20 points)\n",
    "\n",
    "What specific metrics and techniques did you use to assess the quality of the data in each dataset? Describe the issues you identified in the datasets. For each issue, detail the impact it could have on analysis and decision-making processes. After cleaning, how did the data quality improve? Present metrics or observations to demonstrate the improvement in data quality."
   ]
  },
  {
   "cell_type": "code",
   "execution_count": 54,
   "metadata": {
    "collapsed": true,
    "jupyter": {
     "outputs_hidden": true,
     "source_hidden": true
    },
    "tags": []
   },
   "outputs": [],
   "source": [
    "import pandas as pd \n",
    "import numpy as np\n",
    "from matplotlib import pyplot as plt\n",
    "from sklearn.preprocessing import LabelEncoder\n",
    "from sklearn.preprocessing import OneHotEncoder"
   ]
  },
  {
   "cell_type": "markdown",
   "metadata": {},
   "source": [
    "### EDA \n",
    "Customer Df"
   ]
  },
  {
   "cell_type": "code",
   "execution_count": 55,
   "metadata": {
    "collapsed": true,
    "jupyter": {
     "outputs_hidden": true,
     "source_hidden": true
    },
    "tags": []
   },
   "outputs": [],
   "source": [
    "customerDF = pd.read_csv(\"ABC_df_customer.csv\", dtype={'CUST_START_DATE':str})\n",
    "\n",
    "# Drop the automacaly created colummn\n",
    "\n",
    "customerDF= customerDF.loc[:, 'INDIVIDUAL_ID':'CURR_ANN_AMT_HOUSE']\n"
   ]
  },
  {
   "cell_type": "markdown",
   "metadata": {},
   "source": [
    "First we need to check if there is any missing values in the dataframe provided. So we create a for loop to interate over all of the columns."
   ]
  },
  {
   "cell_type": "code",
   "execution_count": 56,
   "metadata": {
    "collapsed": true,
    "jupyter": {
     "outputs_hidden": true,
     "source_hidden": true
    },
    "tags": []
   },
   "outputs": [
    {
     "name": "stdout",
     "output_type": "stream",
     "text": [
      "There are 1 missing values in INDIVIDUAL_ID\n",
      "There are 1 missing values in ADDRESS_ID\n",
      "There are 0 missing values in CUST_ORIG_DATE\n",
      "There are 0 missing values in DATE_OF_BIRTH\n",
      "There are 0 missing values in SOCIAL_SECURITY_NUMBER\n",
      "There are 91213 missing values in CUST_START_DATE\n",
      "There are 0 missing values in CURR_ANN_AMT_CAR\n",
      "There are 0 missing values in CURR_ANN_AMT_HEALTH\n",
      "There are 0 missing values in CURR_ANN_AMT_HOUSE\n"
     ]
    }
   ],
   "source": [
    "# Create a list with all of the columns in it \n",
    "customerDF_columns = list(customerDF.loc[:, 'INDIVIDUAL_ID':'CURR_ANN_AMT_HOUSE'])\n",
    "\n",
    "# Iterate over the list \n",
    "\n",
    "for i in customerDF_columns:\n",
    "    \n",
    "# Sums all of the missing values  \n",
    "\n",
    "    missing_count = customerDF[i].isna().sum()\n",
    "    \n",
    "    print(f\"There are {missing_count} missing values in {i}\")"
   ]
  },
  {
   "cell_type": "markdown",
   "metadata": {},
   "source": [
    "With the previous analysis, we can conclude that there are 3 columns that we need to clean the missing data. Since two of them are IDs we can drop those columns because we can't discover the actual ID of those lines and we can't create another ID because we will need to join dataframes and the values won't match.\n",
    "\n",
    "Regarding the CUST_START_DATE column, we don't need to fill these missing values because they won't be necessary to the following analysis.\n"
   ]
  },
  {
   "cell_type": "code",
   "execution_count": 57,
   "metadata": {
    "collapsed": true,
    "jupyter": {
     "outputs_hidden": true,
     "source_hidden": true
    },
    "tags": []
   },
   "outputs": [],
   "source": [
    "customerDF.dropna(subset=['INDIVIDUAL_ID', 'ADDRESS_ID'], inplace=True)"
   ]
  },
  {
   "cell_type": "markdown",
   "metadata": {},
   "source": [
    "Regarding the columns CUST_ORIG_DATE and CUST_START_DATE, the original date needs to be lower than the current policy date. So if this doesn't occur, we can drop those rows. "
   ]
  },
  {
   "cell_type": "code",
   "execution_count": 58,
   "metadata": {},
   "outputs": [
    {
     "ename": "ValueError",
     "evalue": "Need to specify at least one of 'labels', 'index' or 'columns'",
     "output_type": "error",
     "traceback": [
      "\u001b[0;31m---------------------------------------------------------------------------\u001b[0m",
      "\u001b[0;31mValueError\u001b[0m                                Traceback (most recent call last)",
      "\u001b[0;32m/var/folders/t5/xkrcn0zs68343t08zv5cwn1w0000gn/T/ipykernel_89934/2756354471.py\u001b[0m in \u001b[0;36m?\u001b[0;34m()\u001b[0m\n\u001b[0;32m----> 1\u001b[0;31m \u001b[0mcustomerDF\u001b[0m\u001b[0;34m[\u001b[0m\u001b[0mcustomerDF\u001b[0m\u001b[0;34m[\u001b[0m\u001b[0;34m'CUST_ORIG_DATE'\u001b[0m\u001b[0;34m]\u001b[0m \u001b[0;34m>\u001b[0m \u001b[0mcustomerDF\u001b[0m\u001b[0;34m[\u001b[0m\u001b[0;34m'CUST_START_DATE'\u001b[0m\u001b[0;34m]\u001b[0m\u001b[0;34m]\u001b[0m\u001b[0;34m.\u001b[0m\u001b[0mdrop\u001b[0m\u001b[0;34m(\u001b[0m\u001b[0minplace\u001b[0m\u001b[0;34m=\u001b[0m\u001b[0;32mTrue\u001b[0m\u001b[0;34m)\u001b[0m\u001b[0;34m\u001b[0m\u001b[0;34m\u001b[0m\u001b[0m\n\u001b[0m",
      "\u001b[0;32m/Library/Frameworks/Python.framework/Versions/3.11/lib/python3.11/site-packages/pandas/core/frame.py\u001b[0m in \u001b[0;36m?\u001b[0;34m(self, labels, axis, index, columns, level, inplace, errors)\u001b[0m\n\u001b[1;32m   5340\u001b[0m                 \u001b[0mweight\u001b[0m  \u001b[0;36m250.0\u001b[0m   \u001b[0;36m150.0\u001b[0m\u001b[0;34m\u001b[0m\u001b[0;34m\u001b[0m\u001b[0m\n\u001b[1;32m   5341\u001b[0m         \u001b[0mfalcon\u001b[0m  \u001b[0mspeed\u001b[0m   \u001b[0;36m320.0\u001b[0m   \u001b[0;36m250.0\u001b[0m\u001b[0;34m\u001b[0m\u001b[0;34m\u001b[0m\u001b[0m\n\u001b[1;32m   5342\u001b[0m                 \u001b[0mweight\u001b[0m  \u001b[0;36m1.0\u001b[0m     \u001b[0;36m0.8\u001b[0m\u001b[0;34m\u001b[0m\u001b[0;34m\u001b[0m\u001b[0m\n\u001b[1;32m   5343\u001b[0m         \"\"\"\n\u001b[0;32m-> 5344\u001b[0;31m         return super().drop(\n\u001b[0m\u001b[1;32m   5345\u001b[0m             \u001b[0mlabels\u001b[0m\u001b[0;34m=\u001b[0m\u001b[0mlabels\u001b[0m\u001b[0;34m,\u001b[0m\u001b[0;34m\u001b[0m\u001b[0;34m\u001b[0m\u001b[0m\n\u001b[1;32m   5346\u001b[0m             \u001b[0maxis\u001b[0m\u001b[0;34m=\u001b[0m\u001b[0maxis\u001b[0m\u001b[0;34m,\u001b[0m\u001b[0;34m\u001b[0m\u001b[0;34m\u001b[0m\u001b[0m\n\u001b[1;32m   5347\u001b[0m             \u001b[0mindex\u001b[0m\u001b[0;34m=\u001b[0m\u001b[0mindex\u001b[0m\u001b[0;34m,\u001b[0m\u001b[0;34m\u001b[0m\u001b[0;34m\u001b[0m\u001b[0m\n",
      "\u001b[0;32m/Library/Frameworks/Python.framework/Versions/3.11/lib/python3.11/site-packages/pandas/core/generic.py\u001b[0m in \u001b[0;36m?\u001b[0;34m(self, labels, axis, index, columns, level, inplace, errors)\u001b[0m\n\u001b[1;32m   4699\u001b[0m             \u001b[0maxes\u001b[0m \u001b[0;34m=\u001b[0m \u001b[0;34m{\u001b[0m\u001b[0;34m\"index\"\u001b[0m\u001b[0;34m:\u001b[0m \u001b[0mindex\u001b[0m\u001b[0;34m}\u001b[0m\u001b[0;34m\u001b[0m\u001b[0;34m\u001b[0m\u001b[0m\n\u001b[1;32m   4700\u001b[0m             \u001b[0;32mif\u001b[0m \u001b[0mself\u001b[0m\u001b[0;34m.\u001b[0m\u001b[0mndim\u001b[0m \u001b[0;34m==\u001b[0m \u001b[0;36m2\u001b[0m\u001b[0;34m:\u001b[0m\u001b[0;34m\u001b[0m\u001b[0;34m\u001b[0m\u001b[0m\n\u001b[1;32m   4701\u001b[0m                 \u001b[0maxes\u001b[0m\u001b[0;34m[\u001b[0m\u001b[0;34m\"columns\"\u001b[0m\u001b[0;34m]\u001b[0m \u001b[0;34m=\u001b[0m \u001b[0mcolumns\u001b[0m\u001b[0;34m\u001b[0m\u001b[0;34m\u001b[0m\u001b[0m\n\u001b[1;32m   4702\u001b[0m         \u001b[0;32melse\u001b[0m\u001b[0;34m:\u001b[0m\u001b[0;34m\u001b[0m\u001b[0;34m\u001b[0m\u001b[0m\n\u001b[0;32m-> 4703\u001b[0;31m             raise ValueError(\n\u001b[0m\u001b[1;32m   4704\u001b[0m                 \u001b[0;34m\"Need to specify at least one of 'labels', 'index' or 'columns'\"\u001b[0m\u001b[0;34m\u001b[0m\u001b[0;34m\u001b[0m\u001b[0m\n\u001b[1;32m   4705\u001b[0m             )\n\u001b[1;32m   4706\u001b[0m \u001b[0;34m\u001b[0m\u001b[0m\n",
      "\u001b[0;31mValueError\u001b[0m: Need to specify at least one of 'labels', 'index' or 'columns'"
     ]
    }
   ],
   "source": [
    "customerDF[customerDF['CUST_ORIG_DATE'] > customerDF['CUST_START_DATE']].drop(inplace=True)"
   ]
  },
  {
   "cell_type": "markdown",
   "metadata": {},
   "source": [
    "After droping the unecessary rows and columns, we need to check if there is any duplicaded rows in the df."
   ]
  },
  {
   "cell_type": "code",
   "execution_count": null,
   "metadata": {
    "collapsed": true,
    "jupyter": {
     "outputs_hidden": true,
     "source_hidden": true
    },
    "tags": []
   },
   "outputs": [
    {
     "data": {
      "text/plain": [
       "INDIVIDUAL_ID             0\n",
       "ADDRESS_ID                0\n",
       "CUST_ORIG_DATE            0\n",
       "DATE_OF_BIRTH             0\n",
       "SOCIAL_SECURITY_NUMBER    0\n",
       "CUST_START_DATE           0\n",
       "CURR_ANN_AMT_CAR          0\n",
       "CURR_ANN_AMT_HEALTH       0\n",
       "CURR_ANN_AMT_HOUSE        0\n",
       "dtype: int64"
      ]
     },
     "execution_count": 17,
     "metadata": {},
     "output_type": "execute_result"
    }
   ],
   "source": [
    "#creates a mask of customerDF \n",
    "mask_duplicated = customerDF.duplicated()\n",
    "\n",
    "#Applies the mask and counts all the rows\n",
    "customerDF[mask_duplicated].count()"
   ]
  },
  {
   "cell_type": "markdown",
   "metadata": {},
   "source": [
    "Now we will analise the distribuition of each column, using matplotlib.pyplot histogram."
   ]
  },
  {
   "cell_type": "code",
   "execution_count": null,
   "metadata": {
    "collapsed": true,
    "jupyter": {
     "outputs_hidden": true,
     "source_hidden": true
    },
    "tags": []
   },
   "outputs": [
    {
     "data": {
      "image/png": "[encoded data removed]",
      "text/plain": [
       "<Figure size 640x480 with 1 Axes>"
      ]
     },
     "metadata": {},
     "output_type": "display_data"
    },
    {
     "data": {
      "image/png": "[encoded data removed]",
      "text/plain": [
       "<Figure size 640x480 with 1 Axes>"
      ]
     },
     "metadata": {},
     "output_type": "display_data"
    },
    {
     "data": {
      "image/png": "[encoded data removed]",
      "text/plain": [
       "<Figure size 640x480 with 1 Axes>"
      ]
     },
     "metadata": {},
     "output_type": "display_data"
    }
   ],
   "source": [
    "for col in list(customerDF.loc[:,'CURR_ANN_AMT_CAR':'CURR_ANN_AMT_HOUSE']):\n",
    "    \n",
    "    data=customerDF[col]\n",
    "    \n",
    "    # Create a histogram with custom bins\n",
    "    plt.hist(data, color='blue', alpha=0.7)\n",
    "    plt.title(f'Histogram of {col}')\n",
    "    plt.xlabel('Values')\n",
    "    plt.ylabel('Frequency')\n",
    "    plt.grid(True)\n",
    "    plt.show()\n",
    "    \n"
   ]
  },
  {
   "cell_type": "markdown",
   "metadata": {},
   "source": [
    "With the previous histograms we can observe a normal in all of the columns."
   ]
  },
  {
   "cell_type": "code",
   "execution_count": null,
   "metadata": {
    "collapsed": true,
    "jupyter": {
     "outputs_hidden": true,
     "source_hidden": true
    },
    "tags": []
   },
   "outputs": [
    {
     "data": {
      "image/png": "[encoded data removed]",
      "text/plain": [
       "<Figure size 640x480 with 1 Axes>"
      ]
     },
     "metadata": {},
     "output_type": "display_data"
    },
    {
     "data": {
      "image/png": "[encoded data removed]",
      "text/plain": [
       "<Figure size 640x480 with 1 Axes>"
      ]
     },
     "metadata": {},
     "output_type": "display_data"
    },
    {
     "data": {
      "image/png": "[encoded data removed]",
      "text/plain": [
       "<Figure size 640x480 with 1 Axes>"
      ]
     },
     "metadata": {},
     "output_type": "display_data"
    }
   ],
   "source": [
    "for col in list(customerDF.loc[:,'CURR_ANN_AMT_CAR':'CURR_ANN_AMT_HOUSE']):\n",
    "    \n",
    "    data=customerDF[col]\n",
    "\n",
    "    #Create a histogram with custom bins\n",
    "    plt.boxplot(data)\n",
    "    plt.title(f'BoxPlot of {col}')\n",
    "    plt.xlabel('Values')\n",
    "    plt.grid(True)\n",
    "    plt.show()\n",
    "    "
   ]
  },
  {
   "cell_type": "markdown",
   "metadata": {},
   "source": [
    "With these boxplots we can see that there is no outliers in these columns. "
   ]
  },
  {
   "cell_type": "markdown",
   "metadata": {},
   "source": [
    "Now with all of the data clean we can check the basic statistcs, using panda's function describe()."
   ]
  },
  {
   "cell_type": "code",
   "execution_count": null,
   "metadata": {
    "collapsed": true,
    "jupyter": {
     "outputs_hidden": true
    },
    "tags": []
   },
   "outputs": [
    {
     "data": {
      "text/html": [
       "<div>\n",
       "<style scoped>\n",
       "    .dataframe tbody tr th:only-of-type {\n",
       "        vertical-align: middle;\n",
       "    }\n",
       "\n",
       "    .dataframe tbody tr th {\n",
       "        vertical-align: top;\n",
       "    }\n",
       "\n",
       "    .dataframe thead th {\n",
       "        text-align: right;\n",
       "    }\n",
       "</style>\n",
       "<table border=\"1\" class=\"dataframe\">\n",
       "  <thead>\n",
       "    <tr style=\"text-align: right;\">\n",
       "      <th></th>\n",
       "      <th>CURR_ANN_AMT_CAR</th>\n",
       "      <th>CURR_ANN_AMT_HEALTH</th>\n",
       "      <th>CURR_ANN_AMT_HOUSE</th>\n",
       "    </tr>\n",
       "  </thead>\n",
       "  <tbody>\n",
       "    <tr>\n",
       "      <th>count</th>\n",
       "      <td>2.303123e+06</td>\n",
       "      <td>2.303123e+06</td>\n",
       "      <td>2.303123e+06</td>\n",
       "    </tr>\n",
       "    <tr>\n",
       "      <th>mean</th>\n",
       "      <td>1.431069e+03</td>\n",
       "      <td>5.725298e+02</td>\n",
       "      <td>4.293221e+02</td>\n",
       "    </tr>\n",
       "    <tr>\n",
       "      <th>std</th>\n",
       "      <td>2.439311e+02</td>\n",
       "      <td>1.896687e+02</td>\n",
       "      <td>7.606461e+01</td>\n",
       "    </tr>\n",
       "    <tr>\n",
       "      <th>min</th>\n",
       "      <td>2.869633e+02</td>\n",
       "      <td>-3.516244e+02</td>\n",
       "      <td>9.000000e+01</td>\n",
       "    </tr>\n",
       "    <tr>\n",
       "      <th>25%</th>\n",
       "      <td>1.264830e+03</td>\n",
       "      <td>4.442060e+02</td>\n",
       "      <td>3.770000e+02</td>\n",
       "    </tr>\n",
       "    <tr>\n",
       "      <th>50%</th>\n",
       "      <td>1.425758e+03</td>\n",
       "      <td>5.720245e+02</td>\n",
       "      <td>4.270000e+02</td>\n",
       "    </tr>\n",
       "    <tr>\n",
       "      <th>75%</th>\n",
       "      <td>1.591793e+03</td>\n",
       "      <td>7.001294e+02</td>\n",
       "      <td>4.790000e+02</td>\n",
       "    </tr>\n",
       "    <tr>\n",
       "      <th>max</th>\n",
       "      <td>2.769374e+03</td>\n",
       "      <td>1.617531e+03</td>\n",
       "      <td>8.870000e+02</td>\n",
       "    </tr>\n",
       "  </tbody>\n",
       "</table>\n",
       "</div>"
      ],
      "text/plain": [
       "       CURR_ANN_AMT_CAR  CURR_ANN_AMT_HEALTH  CURR_ANN_AMT_HOUSE\n",
       "count      2.303123e+06         2.303123e+06        2.303123e+06\n",
       "mean       1.431069e+03         5.725298e+02        4.293221e+02\n",
       "std        2.439311e+02         1.896687e+02        7.606461e+01\n",
       "min        2.869633e+02        -3.516244e+02        9.000000e+01\n",
       "25%        1.264830e+03         4.442060e+02        3.770000e+02\n",
       "50%        1.425758e+03         5.720245e+02        4.270000e+02\n",
       "75%        1.591793e+03         7.001294e+02        4.790000e+02\n",
       "max        2.769374e+03         1.617531e+03        8.870000e+02"
      ]
     },
     "execution_count": 20,
     "metadata": {},
     "output_type": "execute_result"
    }
   ],
   "source": [
    "customerDF.loc[:,'CURR_ANN_AMT_CAR':'CURR_ANN_AMT_HOUSE'].describe()"
   ]
  },
  {
   "cell_type": "markdown",
   "metadata": {},
   "source": [
    "### demographic DF"
   ]
  },
  {
   "cell_type": "code",
   "execution_count": null,
   "metadata": {
    "collapsed": true,
    "jupyter": {
     "outputs_hidden": true,
     "source_hidden": true
    },
    "tags": []
   },
   "outputs": [],
   "source": [
    "demographicDF = pd.read_csv('ABC_df_demographic.csv')\n",
    "\n",
    "\n",
    "demographicDF = demographicDF.loc[:,'INDIVIDUAL_ID':'ADVANCED_STUDIES']"
   ]
  },
  {
   "cell_type": "code",
   "execution_count": null,
   "metadata": {
    "collapsed": true,
    "jupyter": {
     "outputs_hidden": true,
     "source_hidden": true
    },
    "tags": []
   },
   "outputs": [
    {
     "data": {
      "text/html": [
       "<div>\n",
       "<style scoped>\n",
       "    .dataframe tbody tr th:only-of-type {\n",
       "        vertical-align: middle;\n",
       "    }\n",
       "\n",
       "    .dataframe tbody tr th {\n",
       "        vertical-align: top;\n",
       "    }\n",
       "\n",
       "    .dataframe thead th {\n",
       "        text-align: right;\n",
       "    }\n",
       "</style>\n",
       "<table border=\"1\" class=\"dataframe\">\n",
       "  <thead>\n",
       "    <tr style=\"text-align: right;\">\n",
       "      <th></th>\n",
       "      <th>INDIVIDUAL_ID</th>\n",
       "      <th>INCOME</th>\n",
       "      <th>HAS_CHILDREN</th>\n",
       "      <th>LENGTH_OF_RESIDENCE</th>\n",
       "      <th>MARITAL_STATUS</th>\n",
       "      <th>HOME_MARKET_VALUE</th>\n",
       "      <th>HOME_OWNER</th>\n",
       "      <th>COLLEGE_DEGREE</th>\n",
       "      <th>GOOD_CREDIT</th>\n",
       "      <th>ADVANCED_STUDIES</th>\n",
       "    </tr>\n",
       "  </thead>\n",
       "  <tbody>\n",
       "    <tr>\n",
       "      <th>0</th>\n",
       "      <td>2.213028e+11</td>\n",
       "      <td>187500.0</td>\n",
       "      <td>1.0</td>\n",
       "      <td>8.0</td>\n",
       "      <td>Single</td>\n",
       "      <td>300000 - 349999</td>\n",
       "      <td>1</td>\n",
       "      <td>1</td>\n",
       "      <td>1</td>\n",
       "      <td>Y</td>\n",
       "    </tr>\n",
       "    <tr>\n",
       "      <th>1</th>\n",
       "      <td>2.213032e+11</td>\n",
       "      <td>63750.0</td>\n",
       "      <td>0.0</td>\n",
       "      <td>0.0</td>\n",
       "      <td>Single</td>\n",
       "      <td>NaN</td>\n",
       "      <td>0</td>\n",
       "      <td>0</td>\n",
       "      <td>0</td>\n",
       "      <td>N</td>\n",
       "    </tr>\n",
       "    <tr>\n",
       "      <th>2</th>\n",
       "      <td>2.213032e+11</td>\n",
       "      <td>41250.0</td>\n",
       "      <td>0.0</td>\n",
       "      <td>15.0</td>\n",
       "      <td>Married</td>\n",
       "      <td>75000 - 99999</td>\n",
       "      <td>1</td>\n",
       "      <td>0</td>\n",
       "      <td>1</td>\n",
       "      <td>N</td>\n",
       "    </tr>\n",
       "  </tbody>\n",
       "</table>\n",
       "</div>"
      ],
      "text/plain": [
       "   INDIVIDUAL_ID    INCOME  HAS_CHILDREN  LENGTH_OF_RESIDENCE MARITAL_STATUS  \\\n",
       "0   2.213028e+11  187500.0           1.0                  8.0         Single   \n",
       "1   2.213032e+11   63750.0           0.0                  0.0         Single   \n",
       "2   2.213032e+11   41250.0           0.0                 15.0        Married   \n",
       "\n",
       "  HOME_MARKET_VALUE  HOME_OWNER  COLLEGE_DEGREE  GOOD_CREDIT ADVANCED_STUDIES  \n",
       "0   300000 - 349999           1               1            1                Y  \n",
       "1               NaN           0               0            0                N  \n",
       "2     75000 - 99999           1               0            1                N  "
      ]
     },
     "execution_count": 22,
     "metadata": {},
     "output_type": "execute_result"
    }
   ],
   "source": [
    "demographicDF.head(3)"
   ]
  },
  {
   "cell_type": "markdown",
   "metadata": {},
   "source": [
    "With the df imported we can start with checking if there is any missing values."
   ]
  },
  {
   "cell_type": "code",
   "execution_count": null,
   "metadata": {
    "collapsed": true,
    "jupyter": {
     "outputs_hidden": true,
     "source_hidden": true
    },
    "tags": []
   },
   "outputs": [
    {
     "name": "stdout",
     "output_type": "stream",
     "text": [
      "There are 0 missing values in INDIVIDUAL_ID\n",
      "There are 0 missing values in INCOME\n",
      "There are 0 missing values in HAS_CHILDREN\n",
      "There are 0 missing values in LENGTH_OF_RESIDENCE\n",
      "There are 431648 missing values in MARITAL_STATUS\n",
      "There are 190205 missing values in HOME_MARKET_VALUE\n",
      "There are 0 missing values in HOME_OWNER\n",
      "There are 0 missing values in COLLEGE_DEGREE\n",
      "There are 0 missing values in GOOD_CREDIT\n",
      "There are 0 missing values in ADVANCED_STUDIES\n"
     ]
    }
   ],
   "source": [
    "demographic_columns = list(demographicDF.loc[:,'INDIVIDUAL_ID':'ADVANCED_STUDIES'])\n",
    "\n",
    "# Iterate over the list \n",
    "\n",
    "for c in demographic_columns:\n",
    "    \n",
    "# Sums all of the missing values  \n",
    "\n",
    "    missing_count = demographicDF[c].isna().sum()\n",
    "    \n",
    "    print(f\"There are {missing_count} missing values in {c}\")"
   ]
  },
  {
   "cell_type": "code",
   "execution_count": null,
   "metadata": {},
   "outputs": [
    {
     "data": {
      "text/plain": [
       "HOME_MARKET_VALUE\n",
       "75000 - 99999      365838\n",
       "100000 - 124999    330234\n",
       "50000 - 74999      267363\n",
       "125000 - 149999    250837\n",
       "150000 - 174999    176274\n",
       "175000 - 199999    116738\n",
       "25000 - 49999      110761\n",
       "200000 - 224999     81093\n",
       "225000 - 249999     55308\n",
       "250000 - 274999     37449\n",
       "1000 - 24999        35604\n",
       "300000 - 349999     25286\n",
       "275000 - 299999     22632\n",
       "350000 - 399999     14105\n",
       "500000 - 749999     12319\n",
       "400000 - 449999      8118\n",
       "450000 - 499999      5977\n",
       "750000 - 999999      3895\n",
       "1000000 Plus         2543\n",
       "Name: count, dtype: int64"
      ]
     },
     "execution_count": 24,
     "metadata": {},
     "output_type": "execute_result"
    }
   ],
   "source": [
    "demographicDF['HOME_MARKET_VALUE'].value_counts()\n"
   ]
  },
  {
   "cell_type": "markdown",
   "metadata": {},
   "source": [
    "As we can see there is multiple rows with missing values,so we will fill those lines with a new value called \"Unknown\".\n"
   ]
  },
  {
   "cell_type": "code",
   "execution_count": null,
   "metadata": {
    "collapsed": true,
    "jupyter": {
     "outputs_hidden": true,
     "source_hidden": true
    },
    "tags": []
   },
   "outputs": [],
   "source": [
    "demographicDF['MARITAL_STATUS'].fillna('Unknown', inplace=True)"
   ]
  },
  {
   "cell_type": "markdown",
   "metadata": {},
   "source": [
    "Since we have 2 columns that are not in a standard format we need to encode them into a a format that the algoritms will be able to read. \n",
    "So, we will use the LabelEnconder function to transform the column ADVANCED_STUDIES into a binary format. "
   ]
  },
  {
   "cell_type": "code",
   "execution_count": null,
   "metadata": {},
   "outputs": [],
   "source": [
    "le = LabelEncoder()\n",
    "\n",
    "demographicDF['ADVANCED_STUDIES_ENCODED']=le.fit_transform(demographicDF['ADVANCED_STUDIES'])"
   ]
  },
  {
   "cell_type": "markdown",
   "metadata": {},
   "source": [
    " In the MARITIAL_STATUS we could see with the Missing values analysis that there was several rows that needed to be dealt with. So we will use the function OneHotEnconder to split the values Married, Single and Unkknown. We are using this method because we could not drop the columns where the values where missing because that accounted for one quarter of the dataset. Therefore, by creating 3 columns we can leave the unwanted data outside of the future model parameters."
   ]
  },
  {
   "cell_type": "code",
   "execution_count": null,
   "metadata": {},
   "outputs": [
    {
     "name": "stderr",
     "output_type": "stream",
     "text": [
      "/Library/Frameworks/Python.framework/Versions/3.11/lib/python3.11/site-packages/sklearn/preprocessing/_encoders.py:975: FutureWarning: `sparse` was renamed to `sparse_output` in version 1.2 and will be removed in 1.4. `sparse_output` is ignored unless you leave `sparse` to its default value.\n",
      "  warnings.warn(\n",
      "/Library/Frameworks/Python.framework/Versions/3.11/lib/python3.11/site-packages/sklearn/preprocessing/_encoders.py:975: FutureWarning: `sparse` was renamed to `sparse_output` in version 1.2 and will be removed in 1.4. `sparse_output` is ignored unless you leave `sparse` to its default value.\n",
      "  warnings.warn(\n"
     ]
    },
    {
     "data": {
      "text/html": [
       "<div>\n",
       "<style scoped>\n",
       "    .dataframe tbody tr th:only-of-type {\n",
       "        vertical-align: middle;\n",
       "    }\n",
       "\n",
       "    .dataframe tbody tr th {\n",
       "        vertical-align: top;\n",
       "    }\n",
       "\n",
       "    .dataframe thead th {\n",
       "        text-align: right;\n",
       "    }\n",
       "</style>\n",
       "<table border=\"1\" class=\"dataframe\">\n",
       "  <thead>\n",
       "    <tr style=\"text-align: right;\">\n",
       "      <th></th>\n",
       "      <th>INDIVIDUAL_ID</th>\n",
       "      <th>INCOME</th>\n",
       "      <th>HAS_CHILDREN</th>\n",
       "      <th>LENGTH_OF_RESIDENCE</th>\n",
       "      <th>MARITAL_STATUS</th>\n",
       "      <th>HOME_MARKET_VALUE</th>\n",
       "      <th>HOME_OWNER</th>\n",
       "      <th>COLLEGE_DEGREE</th>\n",
       "      <th>GOOD_CREDIT</th>\n",
       "      <th>ADVANCED_STUDIES</th>\n",
       "      <th>ADVANCED_STUDIES_ENCODED</th>\n",
       "      <th>MARITAL_STATUS_Married</th>\n",
       "      <th>MARITAL_STATUS_Single</th>\n",
       "      <th>MARITAL_STATUS_Unknown</th>\n",
       "    </tr>\n",
       "  </thead>\n",
       "  <tbody>\n",
       "    <tr>\n",
       "      <th>0</th>\n",
       "      <td>2.213028e+11</td>\n",
       "      <td>187500.000</td>\n",
       "      <td>1.0</td>\n",
       "      <td>8.0</td>\n",
       "      <td>Single</td>\n",
       "      <td>300000 - 349999</td>\n",
       "      <td>1</td>\n",
       "      <td>1</td>\n",
       "      <td>1</td>\n",
       "      <td>Y</td>\n",
       "      <td>1</td>\n",
       "      <td>0.0</td>\n",
       "      <td>1.0</td>\n",
       "      <td>0.0</td>\n",
       "    </tr>\n",
       "    <tr>\n",
       "      <th>1</th>\n",
       "      <td>2.213032e+11</td>\n",
       "      <td>63750.000</td>\n",
       "      <td>0.0</td>\n",
       "      <td>0.0</td>\n",
       "      <td>Single</td>\n",
       "      <td>NaN</td>\n",
       "      <td>0</td>\n",
       "      <td>0</td>\n",
       "      <td>0</td>\n",
       "      <td>N</td>\n",
       "      <td>0</td>\n",
       "      <td>0.0</td>\n",
       "      <td>1.0</td>\n",
       "      <td>0.0</td>\n",
       "    </tr>\n",
       "    <tr>\n",
       "      <th>2</th>\n",
       "      <td>2.213032e+11</td>\n",
       "      <td>41250.000</td>\n",
       "      <td>0.0</td>\n",
       "      <td>15.0</td>\n",
       "      <td>Married</td>\n",
       "      <td>75000 - 99999</td>\n",
       "      <td>1</td>\n",
       "      <td>0</td>\n",
       "      <td>1</td>\n",
       "      <td>N</td>\n",
       "      <td>0</td>\n",
       "      <td>1.0</td>\n",
       "      <td>0.0</td>\n",
       "      <td>0.0</td>\n",
       "    </tr>\n",
       "    <tr>\n",
       "      <th>3</th>\n",
       "      <td>2.213032e+11</td>\n",
       "      <td>120558.264</td>\n",
       "      <td>0.0</td>\n",
       "      <td>0.0</td>\n",
       "      <td>Unknown</td>\n",
       "      <td>1000 - 24999</td>\n",
       "      <td>1</td>\n",
       "      <td>0</td>\n",
       "      <td>0</td>\n",
       "      <td>N</td>\n",
       "      <td>0</td>\n",
       "      <td>0.0</td>\n",
       "      <td>0.0</td>\n",
       "      <td>1.0</td>\n",
       "    </tr>\n",
       "    <tr>\n",
       "      <th>4</th>\n",
       "      <td>2.213032e+11</td>\n",
       "      <td>187500.000</td>\n",
       "      <td>0.0</td>\n",
       "      <td>0.0</td>\n",
       "      <td>Unknown</td>\n",
       "      <td>NaN</td>\n",
       "      <td>0</td>\n",
       "      <td>0</td>\n",
       "      <td>1</td>\n",
       "      <td>Y</td>\n",
       "      <td>1</td>\n",
       "      <td>0.0</td>\n",
       "      <td>0.0</td>\n",
       "      <td>1.0</td>\n",
       "    </tr>\n",
       "    <tr>\n",
       "      <th>...</th>\n",
       "      <td>...</td>\n",
       "      <td>...</td>\n",
       "      <td>...</td>\n",
       "      <td>...</td>\n",
       "      <td>...</td>\n",
       "      <td>...</td>\n",
       "      <td>...</td>\n",
       "      <td>...</td>\n",
       "      <td>...</td>\n",
       "      <td>...</td>\n",
       "      <td>...</td>\n",
       "      <td>...</td>\n",
       "      <td>...</td>\n",
       "      <td>...</td>\n",
       "    </tr>\n",
       "    <tr>\n",
       "      <th>2112574</th>\n",
       "      <td>2.213006e+11</td>\n",
       "      <td>131250.000</td>\n",
       "      <td>1.0</td>\n",
       "      <td>12.0</td>\n",
       "      <td>Married</td>\n",
       "      <td>50000 - 74999</td>\n",
       "      <td>1</td>\n",
       "      <td>0</td>\n",
       "      <td>1</td>\n",
       "      <td>N</td>\n",
       "      <td>0</td>\n",
       "      <td>1.0</td>\n",
       "      <td>0.0</td>\n",
       "      <td>0.0</td>\n",
       "    </tr>\n",
       "    <tr>\n",
       "      <th>2112575</th>\n",
       "      <td>2.213006e+11</td>\n",
       "      <td>56250.000</td>\n",
       "      <td>1.0</td>\n",
       "      <td>5.0</td>\n",
       "      <td>Single</td>\n",
       "      <td>50000 - 74999</td>\n",
       "      <td>0</td>\n",
       "      <td>0</td>\n",
       "      <td>1</td>\n",
       "      <td>N</td>\n",
       "      <td>0</td>\n",
       "      <td>0.0</td>\n",
       "      <td>1.0</td>\n",
       "      <td>0.0</td>\n",
       "    </tr>\n",
       "    <tr>\n",
       "      <th>2112576</th>\n",
       "      <td>2.213006e+11</td>\n",
       "      <td>187500.000</td>\n",
       "      <td>0.0</td>\n",
       "      <td>13.0</td>\n",
       "      <td>Married</td>\n",
       "      <td>225000 - 249999</td>\n",
       "      <td>1</td>\n",
       "      <td>1</td>\n",
       "      <td>1</td>\n",
       "      <td>N</td>\n",
       "      <td>0</td>\n",
       "      <td>1.0</td>\n",
       "      <td>0.0</td>\n",
       "      <td>0.0</td>\n",
       "    </tr>\n",
       "    <tr>\n",
       "      <th>2112577</th>\n",
       "      <td>2.213006e+11</td>\n",
       "      <td>187500.000</td>\n",
       "      <td>2.0</td>\n",
       "      <td>12.0</td>\n",
       "      <td>Married</td>\n",
       "      <td>100000 - 124999</td>\n",
       "      <td>1</td>\n",
       "      <td>0</td>\n",
       "      <td>1</td>\n",
       "      <td>Y</td>\n",
       "      <td>1</td>\n",
       "      <td>1.0</td>\n",
       "      <td>0.0</td>\n",
       "      <td>0.0</td>\n",
       "    </tr>\n",
       "    <tr>\n",
       "      <th>2112578</th>\n",
       "      <td>2.213006e+11</td>\n",
       "      <td>63750.000</td>\n",
       "      <td>1.0</td>\n",
       "      <td>4.0</td>\n",
       "      <td>Single</td>\n",
       "      <td>100000 - 124999</td>\n",
       "      <td>1</td>\n",
       "      <td>0</td>\n",
       "      <td>0</td>\n",
       "      <td>N</td>\n",
       "      <td>0</td>\n",
       "      <td>0.0</td>\n",
       "      <td>1.0</td>\n",
       "      <td>0.0</td>\n",
       "    </tr>\n",
       "  </tbody>\n",
       "</table>\n",
       "<p>2112579 rows × 14 columns</p>\n",
       "</div>"
      ],
      "text/plain": [
       "         INDIVIDUAL_ID      INCOME  HAS_CHILDREN  LENGTH_OF_RESIDENCE  \\\n",
       "0         2.213028e+11  187500.000           1.0                  8.0   \n",
       "1         2.213032e+11   63750.000           0.0                  0.0   \n",
       "2         2.213032e+11   41250.000           0.0                 15.0   \n",
       "3         2.213032e+11  120558.264           0.0                  0.0   \n",
       "4         2.213032e+11  187500.000           0.0                  0.0   \n",
       "...                ...         ...           ...                  ...   \n",
       "2112574   2.213006e+11  131250.000           1.0                 12.0   \n",
       "2112575   2.213006e+11   56250.000           1.0                  5.0   \n",
       "2112576   2.213006e+11  187500.000           0.0                 13.0   \n",
       "2112577   2.213006e+11  187500.000           2.0                 12.0   \n",
       "2112578   2.213006e+11   63750.000           1.0                  4.0   \n",
       "\n",
       "        MARITAL_STATUS HOME_MARKET_VALUE  HOME_OWNER  COLLEGE_DEGREE  \\\n",
       "0               Single   300000 - 349999           1               1   \n",
       "1               Single               NaN           0               0   \n",
       "2              Married     75000 - 99999           1               0   \n",
       "3              Unknown      1000 - 24999           1               0   \n",
       "4              Unknown               NaN           0               0   \n",
       "...                ...               ...         ...             ...   \n",
       "2112574        Married     50000 - 74999           1               0   \n",
       "2112575         Single     50000 - 74999           0               0   \n",
       "2112576        Married   225000 - 249999           1               1   \n",
       "2112577        Married   100000 - 124999           1               0   \n",
       "2112578         Single   100000 - 124999           1               0   \n",
       "\n",
       "         GOOD_CREDIT ADVANCED_STUDIES  ADVANCED_STUDIES_ENCODED  \\\n",
       "0                  1                Y                         1   \n",
       "1                  0                N                         0   \n",
       "2                  1                N                         0   \n",
       "3                  0                N                         0   \n",
       "4                  1                Y                         1   \n",
       "...              ...              ...                       ...   \n",
       "2112574            1                N                         0   \n",
       "2112575            1                N                         0   \n",
       "2112576            1                N                         0   \n",
       "2112577            1                Y                         1   \n",
       "2112578            0                N                         0   \n",
       "\n",
       "         MARITAL_STATUS_Married  MARITAL_STATUS_Single  MARITAL_STATUS_Unknown  \n",
       "0                           0.0                    1.0                     0.0  \n",
       "1                           0.0                    1.0                     0.0  \n",
       "2                           1.0                    0.0                     0.0  \n",
       "3                           0.0                    0.0                     1.0  \n",
       "4                           0.0                    0.0                     1.0  \n",
       "...                         ...                    ...                     ...  \n",
       "2112574                     1.0                    0.0                     0.0  \n",
       "2112575                     0.0                    1.0                     0.0  \n",
       "2112576                     1.0                    0.0                     0.0  \n",
       "2112577                     1.0                    0.0                     0.0  \n",
       "2112578                     0.0                    1.0                     0.0  \n",
       "\n",
       "[2112579 rows x 14 columns]"
      ]
     },
     "execution_count": 27,
     "metadata": {},
     "output_type": "execute_result"
    }
   ],
   "source": [
    "\n",
    "# 1. Ensure it's a Series, not just an array\n",
    "marital_status_data = demographicDF['MARITAL_STATUS']\n",
    "\n",
    "# 2. Convert to 2D Representation (column vector)\n",
    "marital_status_data = marital_status_data.to_numpy().reshape(-1, 1)  \n",
    "\n",
    "# 3. Now use the OneHotEncoder\n",
    "ohe = OneHotEncoder(sparse=False)  \n",
    "encoded_data = ohe.fit_transform(marital_status_data) \n",
    "\n",
    "new_column_names = ohe.get_feature_names_out(['MARITAL_STATUS'])\n",
    "df_encoded = pd.DataFrame(encoded_data, columns=new_column_names)\n",
    "\n",
    "# Concatenate with other DataFrame columns (assuming they align)\n",
    "result_df = pd.concat([demographicDF, df_encoded], axis=1) \n",
    "\n",
    "# 1. Ensure it's a Series, not just an array\n",
    "marital_status_data = demographicDF['MARITAL_STATUS']\n",
    "\n",
    "# 2. Convert to 2D Representation (column vector)\n",
    "marital_status_data = marital_status_data.to_numpy().reshape(-1, 1)  \n",
    "\n",
    "# 3. Now use the OneHotEncoder\n",
    "ohe = OneHotEncoder(sparse=False)  \n",
    "encoded_data = ohe.fit_transform(marital_status_data) \n",
    "\n",
    "new_column_names = ohe.get_feature_names_out(['MARITAL_STATUS'])\n",
    "df_encoded = pd.DataFrame(encoded_data, columns=new_column_names)\n",
    "\n",
    "\n",
    "result_df"
   ]
  },
  {
   "cell_type": "markdown",
   "metadata": {},
   "source": [
    "To create the analisys of this dataframe we only need to select the columns that are in a standard format. "
   ]
  },
  {
   "cell_type": "code",
   "execution_count": null,
   "metadata": {
    "collapsed": true,
    "jupyter": {
     "outputs_hidden": true
    },
    "tags": []
   },
   "outputs": [
    {
     "data": {
      "text/html": [
       "<div>\n",
       "<style scoped>\n",
       "    .dataframe tbody tr th:only-of-type {\n",
       "        vertical-align: middle;\n",
       "    }\n",
       "\n",
       "    .dataframe tbody tr th {\n",
       "        vertical-align: top;\n",
       "    }\n",
       "\n",
       "    .dataframe thead th {\n",
       "        text-align: right;\n",
       "    }\n",
       "</style>\n",
       "<table border=\"1\" class=\"dataframe\">\n",
       "  <thead>\n",
       "    <tr style=\"text-align: right;\">\n",
       "      <th></th>\n",
       "      <th>INDIVIDUAL_ID</th>\n",
       "      <th>INCOME</th>\n",
       "      <th>HAS_CHILDREN</th>\n",
       "      <th>LENGTH_OF_RESIDENCE</th>\n",
       "      <th>HOME_MARKET_VALUE</th>\n",
       "      <th>HOME_OWNER</th>\n",
       "      <th>COLLEGE_DEGREE</th>\n",
       "      <th>GOOD_CREDIT</th>\n",
       "      <th>ADVANCED_STUDIES_ENCODED</th>\n",
       "      <th>MARITAL_STATUS_Married</th>\n",
       "      <th>MARITAL_STATUS_Single</th>\n",
       "      <th>MARITAL_STATUS_Unknown</th>\n",
       "    </tr>\n",
       "  </thead>\n",
       "  <tbody>\n",
       "    <tr>\n",
       "      <th>0</th>\n",
       "      <td>2.213028e+11</td>\n",
       "      <td>187500.000</td>\n",
       "      <td>1.0</td>\n",
       "      <td>8.0</td>\n",
       "      <td>300000 - 349999</td>\n",
       "      <td>1</td>\n",
       "      <td>1</td>\n",
       "      <td>1</td>\n",
       "      <td>1</td>\n",
       "      <td>0.0</td>\n",
       "      <td>1.0</td>\n",
       "      <td>0.0</td>\n",
       "    </tr>\n",
       "    <tr>\n",
       "      <th>1</th>\n",
       "      <td>2.213032e+11</td>\n",
       "      <td>63750.000</td>\n",
       "      <td>0.0</td>\n",
       "      <td>0.0</td>\n",
       "      <td>NaN</td>\n",
       "      <td>0</td>\n",
       "      <td>0</td>\n",
       "      <td>0</td>\n",
       "      <td>0</td>\n",
       "      <td>0.0</td>\n",
       "      <td>1.0</td>\n",
       "      <td>0.0</td>\n",
       "    </tr>\n",
       "    <tr>\n",
       "      <th>2</th>\n",
       "      <td>2.213032e+11</td>\n",
       "      <td>41250.000</td>\n",
       "      <td>0.0</td>\n",
       "      <td>15.0</td>\n",
       "      <td>75000 - 99999</td>\n",
       "      <td>1</td>\n",
       "      <td>0</td>\n",
       "      <td>1</td>\n",
       "      <td>0</td>\n",
       "      <td>1.0</td>\n",
       "      <td>0.0</td>\n",
       "      <td>0.0</td>\n",
       "    </tr>\n",
       "    <tr>\n",
       "      <th>3</th>\n",
       "      <td>2.213032e+11</td>\n",
       "      <td>120558.264</td>\n",
       "      <td>0.0</td>\n",
       "      <td>0.0</td>\n",
       "      <td>1000 - 24999</td>\n",
       "      <td>1</td>\n",
       "      <td>0</td>\n",
       "      <td>0</td>\n",
       "      <td>0</td>\n",
       "      <td>0.0</td>\n",
       "      <td>0.0</td>\n",
       "      <td>1.0</td>\n",
       "    </tr>\n",
       "    <tr>\n",
       "      <th>4</th>\n",
       "      <td>2.213032e+11</td>\n",
       "      <td>187500.000</td>\n",
       "      <td>0.0</td>\n",
       "      <td>0.0</td>\n",
       "      <td>NaN</td>\n",
       "      <td>0</td>\n",
       "      <td>0</td>\n",
       "      <td>1</td>\n",
       "      <td>1</td>\n",
       "      <td>0.0</td>\n",
       "      <td>0.0</td>\n",
       "      <td>1.0</td>\n",
       "    </tr>\n",
       "  </tbody>\n",
       "</table>\n",
       "</div>"
      ],
      "text/plain": [
       "   INDIVIDUAL_ID      INCOME  HAS_CHILDREN  LENGTH_OF_RESIDENCE  \\\n",
       "0   2.213028e+11  187500.000           1.0                  8.0   \n",
       "1   2.213032e+11   63750.000           0.0                  0.0   \n",
       "2   2.213032e+11   41250.000           0.0                 15.0   \n",
       "3   2.213032e+11  120558.264           0.0                  0.0   \n",
       "4   2.213032e+11  187500.000           0.0                  0.0   \n",
       "\n",
       "  HOME_MARKET_VALUE  HOME_OWNER  COLLEGE_DEGREE  GOOD_CREDIT  \\\n",
       "0   300000 - 349999           1               1            1   \n",
       "1               NaN           0               0            0   \n",
       "2     75000 - 99999           1               0            1   \n",
       "3      1000 - 24999           1               0            0   \n",
       "4               NaN           0               0            1   \n",
       "\n",
       "   ADVANCED_STUDIES_ENCODED  MARITAL_STATUS_Married  MARITAL_STATUS_Single  \\\n",
       "0                         1                     0.0                    1.0   \n",
       "1                         0                     0.0                    1.0   \n",
       "2                         0                     1.0                    0.0   \n",
       "3                         0                     0.0                    0.0   \n",
       "4                         1                     0.0                    0.0   \n",
       "\n",
       "   MARITAL_STATUS_Unknown  \n",
       "0                     0.0  \n",
       "1                     0.0  \n",
       "2                     0.0  \n",
       "3                     1.0  \n",
       "4                     1.0  "
      ]
     },
     "execution_count": 28,
     "metadata": {},
     "output_type": "execute_result"
    }
   ],
   "source": [
    "demographicDF_cleaned=result_df.drop(columns=['MARITAL_STATUS','ADVANCED_STUDIES'])\n",
    "\n",
    "demographicDF_cleaned.head()"
   ]
  },
  {
   "cell_type": "markdown",
   "metadata": {},
   "source": [
    "Now we need to check if the dataframe has duplicates. "
   ]
  },
  {
   "cell_type": "code",
   "execution_count": null,
   "metadata": {
    "tags": []
   },
   "outputs": [
    {
     "data": {
      "text/plain": [
       "INDIVIDUAL_ID               0\n",
       "INCOME                      0\n",
       "HAS_CHILDREN                0\n",
       "LENGTH_OF_RESIDENCE         0\n",
       "MARITAL_STATUS              0\n",
       "HOME_MARKET_VALUE           0\n",
       "HOME_OWNER                  0\n",
       "COLLEGE_DEGREE              0\n",
       "GOOD_CREDIT                 0\n",
       "ADVANCED_STUDIES            0\n",
       "ADVANCED_STUDIES_ENCODED    0\n",
       "dtype: int64"
      ]
     },
     "execution_count": 29,
     "metadata": {},
     "output_type": "execute_result"
    }
   ],
   "source": [
    "#creates a mask of customerDF \n",
    "mask_duplicated = demographicDF.duplicated()\n",
    "\n",
    "#Applies the mask and counts all the rows\n",
    "demographicDF[mask_duplicated].count()"
   ]
  },
  {
   "cell_type": "markdown",
   "metadata": {},
   "source": [
    "Since the dataframe doesn't have any duplicates we can proceed to the distribuition of each column. "
   ]
  },
  {
   "cell_type": "code",
   "execution_count": null,
   "metadata": {
    "collapsed": true,
    "jupyter": {
     "outputs_hidden": true
    },
    "tags": []
   },
   "outputs": [
    {
     "data": {
      "image/png": "[encoded data removed]",
      "text/plain": [
       "<Figure size 640x480 with 1 Axes>"
      ]
     },
     "metadata": {},
     "output_type": "display_data"
    },
    {
     "data": {
      "image/png": "[encoded data removed]",
      "text/plain": [
       "<Figure size 640x480 with 1 Axes>"
      ]
     },
     "metadata": {},
     "output_type": "display_data"
    },
    {
     "data": {
      "image/png": "[encoded data removed]",
      "text/plain": [
       "<Figure size 640x480 with 1 Axes>"
      ]
     },
     "metadata": {},
     "output_type": "display_data"
    }
   ],
   "source": [
    "for col in list(demographicDF_cleaned.loc[:,'INCOME':'LENGTH_OF_RESIDENCE']):\n",
    "    \n",
    "    data=demographicDF_cleaned[col]\n",
    "    \n",
    "    # Create a histogram with custom bins\n",
    "    plt.hist(data, color='blue', alpha=0.7)\n",
    "    plt.title(f'Histogram of {col}')\n",
    "    plt.xlabel('Values')\n",
    "    plt.ylabel('Frequency')\n",
    "    plt.grid(False)\n",
    "    plt.show()\n",
    "    "
   ]
  },
  {
   "cell_type": "code",
   "execution_count": null,
   "metadata": {},
   "outputs": [
    {
     "data": {
      "image/png": "[encoded data removed]",
      "text/plain": [
       "<Figure size 640x480 with 1 Axes>"
      ]
     },
     "metadata": {},
     "output_type": "display_data"
    },
    {
     "data": {
      "image/png": "[encoded data removed]",
      "text/plain": [
       "<Figure size 640x480 with 1 Axes>"
      ]
     },
     "metadata": {},
     "output_type": "display_data"
    },
    {
     "data": {
      "image/png": "[encoded data removed]",
      "text/plain": [
       "<Figure size 640x480 with 1 Axes>"
      ]
     },
     "metadata": {},
     "output_type": "display_data"
    }
   ],
   "source": [
    "for col in list(demographicDF_cleaned.loc[:,'INCOME':'LENGTH_OF_RESIDENCE']):\n",
    "    \n",
    "    data=demographicDF_cleaned[col]\n",
    "    \n",
    "    # Create a box plot\n",
    "    plt.boxplot(data)\n",
    "    plt.title(f'Box Plot of {col}')\n",
    "    plt.xlabel('Values')\n",
    "    plt.ylabel('Frequency')\n",
    "    plt.grid(False)\n",
    "    plt.show()\n",
    "    "
   ]
  },
  {
   "cell_type": "code",
   "execution_count": null,
   "metadata": {},
   "outputs": [
    {
     "data": {
      "text/html": [
       "<div>\n",
       "<style scoped>\n",
       "    .dataframe tbody tr th:only-of-type {\n",
       "        vertical-align: middle;\n",
       "    }\n",
       "\n",
       "    .dataframe tbody tr th {\n",
       "        vertical-align: top;\n",
       "    }\n",
       "\n",
       "    .dataframe thead th {\n",
       "        text-align: right;\n",
       "    }\n",
       "</style>\n",
       "<table border=\"1\" class=\"dataframe\">\n",
       "  <thead>\n",
       "    <tr style=\"text-align: right;\">\n",
       "      <th></th>\n",
       "      <th>INDIVIDUAL_ID</th>\n",
       "      <th>INCOME</th>\n",
       "      <th>HAS_CHILDREN</th>\n",
       "      <th>LENGTH_OF_RESIDENCE</th>\n",
       "      <th>HOME_OWNER</th>\n",
       "      <th>COLLEGE_DEGREE</th>\n",
       "      <th>GOOD_CREDIT</th>\n",
       "      <th>ADVANCED_STUDIES_ENCODED</th>\n",
       "      <th>MARITAL_STATUS_Married</th>\n",
       "      <th>MARITAL_STATUS_Single</th>\n",
       "      <th>MARITAL_STATUS_Unknown</th>\n",
       "    </tr>\n",
       "  </thead>\n",
       "  <tbody>\n",
       "    <tr>\n",
       "      <th>count</th>\n",
       "      <td>2.112579e+06</td>\n",
       "      <td>2.112579e+06</td>\n",
       "      <td>2.112579e+06</td>\n",
       "      <td>2.112579e+06</td>\n",
       "      <td>2.112579e+06</td>\n",
       "      <td>2.112579e+06</td>\n",
       "      <td>2.112579e+06</td>\n",
       "      <td>2.112579e+06</td>\n",
       "      <td>2.112579e+06</td>\n",
       "      <td>2.112579e+06</td>\n",
       "      <td>2.112579e+06</td>\n",
       "    </tr>\n",
       "    <tr>\n",
       "      <th>mean</th>\n",
       "      <td>2.213018e+11</td>\n",
       "      <td>1.205583e+05</td>\n",
       "      <td>4.684885e-01</td>\n",
       "      <td>6.800571e+00</td>\n",
       "      <td>6.983649e-01</td>\n",
       "      <td>3.016152e-01</td>\n",
       "      <td>8.195779e-01</td>\n",
       "      <td>2.600854e-01</td>\n",
       "      <td>4.962995e-01</td>\n",
       "      <td>2.993777e-01</td>\n",
       "      <td>2.043228e-01</td>\n",
       "    </tr>\n",
       "    <tr>\n",
       "      <th>std</th>\n",
       "      <td>9.916207e+05</td>\n",
       "      <td>7.504165e+04</td>\n",
       "      <td>5.853729e-01</td>\n",
       "      <td>5.090825e+00</td>\n",
       "      <td>4.589678e-01</td>\n",
       "      <td>4.589592e-01</td>\n",
       "      <td>3.845388e-01</td>\n",
       "      <td>4.386811e-01</td>\n",
       "      <td>4.999864e-01</td>\n",
       "      <td>4.579856e-01</td>\n",
       "      <td>4.032060e-01</td>\n",
       "    </tr>\n",
       "    <tr>\n",
       "      <th>min</th>\n",
       "      <td>2.213000e+11</td>\n",
       "      <td>7.500000e+03</td>\n",
       "      <td>0.000000e+00</td>\n",
       "      <td>0.000000e+00</td>\n",
       "      <td>0.000000e+00</td>\n",
       "      <td>0.000000e+00</td>\n",
       "      <td>0.000000e+00</td>\n",
       "      <td>0.000000e+00</td>\n",
       "      <td>0.000000e+00</td>\n",
       "      <td>0.000000e+00</td>\n",
       "      <td>0.000000e+00</td>\n",
       "    </tr>\n",
       "    <tr>\n",
       "      <th>25%</th>\n",
       "      <td>2.213009e+11</td>\n",
       "      <td>7.125000e+04</td>\n",
       "      <td>0.000000e+00</td>\n",
       "      <td>2.000000e+00</td>\n",
       "      <td>0.000000e+00</td>\n",
       "      <td>0.000000e+00</td>\n",
       "      <td>1.000000e+00</td>\n",
       "      <td>0.000000e+00</td>\n",
       "      <td>0.000000e+00</td>\n",
       "      <td>0.000000e+00</td>\n",
       "      <td>0.000000e+00</td>\n",
       "    </tr>\n",
       "    <tr>\n",
       "      <th>50%</th>\n",
       "      <td>2.213018e+11</td>\n",
       "      <td>1.205583e+05</td>\n",
       "      <td>0.000000e+00</td>\n",
       "      <td>6.801000e+00</td>\n",
       "      <td>1.000000e+00</td>\n",
       "      <td>0.000000e+00</td>\n",
       "      <td>1.000000e+00</td>\n",
       "      <td>0.000000e+00</td>\n",
       "      <td>0.000000e+00</td>\n",
       "      <td>0.000000e+00</td>\n",
       "      <td>0.000000e+00</td>\n",
       "    </tr>\n",
       "    <tr>\n",
       "      <th>75%</th>\n",
       "      <td>2.213027e+11</td>\n",
       "      <td>1.312500e+05</td>\n",
       "      <td>1.000000e+00</td>\n",
       "      <td>1.100000e+01</td>\n",
       "      <td>1.000000e+00</td>\n",
       "      <td>1.000000e+00</td>\n",
       "      <td>1.000000e+00</td>\n",
       "      <td>1.000000e+00</td>\n",
       "      <td>1.000000e+00</td>\n",
       "      <td>1.000000e+00</td>\n",
       "      <td>0.000000e+00</td>\n",
       "    </tr>\n",
       "    <tr>\n",
       "      <th>max</th>\n",
       "      <td>2.213033e+11</td>\n",
       "      <td>3.750000e+05</td>\n",
       "      <td>6.000000e+00</td>\n",
       "      <td>1.500000e+01</td>\n",
       "      <td>1.000000e+00</td>\n",
       "      <td>1.000000e+00</td>\n",
       "      <td>1.000000e+00</td>\n",
       "      <td>1.000000e+00</td>\n",
       "      <td>1.000000e+00</td>\n",
       "      <td>1.000000e+00</td>\n",
       "      <td>1.000000e+00</td>\n",
       "    </tr>\n",
       "  </tbody>\n",
       "</table>\n",
       "</div>"
      ],
      "text/plain": [
       "       INDIVIDUAL_ID        INCOME  HAS_CHILDREN  LENGTH_OF_RESIDENCE  \\\n",
       "count   2.112579e+06  2.112579e+06  2.112579e+06         2.112579e+06   \n",
       "mean    2.213018e+11  1.205583e+05  4.684885e-01         6.800571e+00   \n",
       "std     9.916207e+05  7.504165e+04  5.853729e-01         5.090825e+00   \n",
       "min     2.213000e+11  7.500000e+03  0.000000e+00         0.000000e+00   \n",
       "25%     2.213009e+11  7.125000e+04  0.000000e+00         2.000000e+00   \n",
       "50%     2.213018e+11  1.205583e+05  0.000000e+00         6.801000e+00   \n",
       "75%     2.213027e+11  1.312500e+05  1.000000e+00         1.100000e+01   \n",
       "max     2.213033e+11  3.750000e+05  6.000000e+00         1.500000e+01   \n",
       "\n",
       "         HOME_OWNER  COLLEGE_DEGREE   GOOD_CREDIT  ADVANCED_STUDIES_ENCODED  \\\n",
       "count  2.112579e+06    2.112579e+06  2.112579e+06              2.112579e+06   \n",
       "mean   6.983649e-01    3.016152e-01  8.195779e-01              2.600854e-01   \n",
       "std    4.589678e-01    4.589592e-01  3.845388e-01              4.386811e-01   \n",
       "min    0.000000e+00    0.000000e+00  0.000000e+00              0.000000e+00   \n",
       "25%    0.000000e+00    0.000000e+00  1.000000e+00              0.000000e+00   \n",
       "50%    1.000000e+00    0.000000e+00  1.000000e+00              0.000000e+00   \n",
       "75%    1.000000e+00    1.000000e+00  1.000000e+00              1.000000e+00   \n",
       "max    1.000000e+00    1.000000e+00  1.000000e+00              1.000000e+00   \n",
       "\n",
       "       MARITAL_STATUS_Married  MARITAL_STATUS_Single  MARITAL_STATUS_Unknown  \n",
       "count            2.112579e+06           2.112579e+06            2.112579e+06  \n",
       "mean             4.962995e-01           2.993777e-01            2.043228e-01  \n",
       "std              4.999864e-01           4.579856e-01            4.032060e-01  \n",
       "min              0.000000e+00           0.000000e+00            0.000000e+00  \n",
       "25%              0.000000e+00           0.000000e+00            0.000000e+00  \n",
       "50%              0.000000e+00           0.000000e+00            0.000000e+00  \n",
       "75%              1.000000e+00           1.000000e+00            0.000000e+00  \n",
       "max              1.000000e+00           1.000000e+00            1.000000e+00  "
      ]
     },
     "execution_count": 48,
     "metadata": {},
     "output_type": "execute_result"
    }
   ],
   "source": [
    "demographicDF_cleaned.describe()"
   ]
  },
  {
   "cell_type": "markdown",
   "metadata": {},
   "source": [
    "### Terminiation DF"
   ]
  },
  {
   "cell_type": "code",
   "execution_count": null,
   "metadata": {
    "tags": []
   },
   "outputs": [],
   "source": [
    "terminationDF=pd.read_csv('ABC_df_termination.csv')\n",
    "\n",
    "terminationDF=terminationDF.loc[:,'INDIVIDUAL_ID':'SUSPD_DATE']"
   ]
  },
  {
   "cell_type": "markdown",
   "metadata": {},
   "source": [
    "**Missing Values** "
   ]
  },
  {
   "cell_type": "code",
   "execution_count": null,
   "metadata": {
    "tags": []
   },
   "outputs": [
    {
     "name": "stdout",
     "output_type": "stream",
     "text": [
      "There are 0 missing values in INDIVIDUAL_ID\n",
      "There are 2693 missing values in SUSPD_DATE\n"
     ]
    }
   ],
   "source": [
    "termination_columns = list(terminationDF.loc[:,'INDIVIDUAL_ID':'SUSPD_DATE'])\n",
    "\n",
    "# Iterate over the list \n",
    "\n",
    "for e in termination_columns:\n",
    "    \n",
    "# Sums all of the missing values  \n",
    "\n",
    "    missing_count = terminationDF[e].isna().sum()\n",
    "    \n",
    "    print(f\"There are {missing_count} missing values in {e}\")"
   ]
  },
  {
   "cell_type": "markdown",
   "metadata": {},
   "source": [
    "We don't need to drop or add any values to this dataframe because it onlys shows the customers that cancelled the service, so the only data we need is the ID of the client. "
   ]
  },
  {
   "cell_type": "markdown",
   "metadata": {},
   "source": [
    "We need to check if there is any missing values in the data provided."
   ]
  },
  {
   "cell_type": "code",
   "execution_count": null,
   "metadata": {
    "tags": []
   },
   "outputs": [
    {
     "data": {
      "text/plain": [
       "INDIVIDUAL_ID    0\n",
       "SUSPD_DATE       0\n",
       "dtype: int64"
      ]
     },
     "execution_count": 33,
     "metadata": {},
     "output_type": "execute_result"
    }
   ],
   "source": [
    "#creates a mask of customerDF \n",
    "mask_duplicated = terminationDF.duplicated()\n",
    "\n",
    "#Applies the mask and counts all the rows\n",
    "terminationDF[mask_duplicated].count()"
   ]
  },
  {
   "cell_type": "code",
   "execution_count": null,
   "metadata": {},
   "outputs": [
    {
     "data": {
      "text/plain": [
       "count         266566\n",
       "unique          2086\n",
       "top       2022-03-17\n",
       "freq             938\n",
       "Name: SUSPD_DATE, dtype: object"
      ]
     },
     "execution_count": 47,
     "metadata": {},
     "output_type": "execute_result"
    }
   ],
   "source": [
    "terminationDF['SUSPD_DATE'].describe()"
   ]
  },
  {
   "cell_type": "markdown",
   "metadata": {},
   "source": [
    "#### Q1.2 Please describe in two paragraphs the main data insights. Connect the insight with the business  (10 points)\n"
   ]
  },
  {
   "cell_type": "code",
   "execution_count": null,
   "metadata": {
    "collapsed": true,
    "jupyter": {
     "outputs_hidden": true
    }
   },
   "outputs": [],
   "source": []
  },
  {
   "cell_type": "markdown",
   "metadata": {},
   "source": [
    "## Question 2: Predictive Modeling estimate Costumer Value (35 points)\n",
    "\n",
    "#### Background: ABC Insurance aims to optimize its marketing and product offerings by predicting which customers are likely to be the most valuable. The CURR_ANN_AMT_CAR, CURR_ANN_AMT_HEALTH, and CURR_ANN_AMT_HOUSE fields in the df_customer dataset can serve as indicators of customer value."
   ]
  },
  {
   "cell_type": "code",
   "execution_count": null,
   "metadata": {
    "tags": []
   },
   "outputs": [],
   "source": [
    "from sklearn.linear_model import LinearRegression\n",
    "from sklearn.metrics import mean_squared_error"
   ]
  },
  {
   "cell_type": "markdown",
   "metadata": {},
   "source": [
    "First we need to join both dataframes to analise the impact of demographics in the value of the customer."
   ]
  },
  {
   "cell_type": "code",
   "execution_count": null,
   "metadata": {
    "tags": []
   },
   "outputs": [],
   "source": [
    "customer_demographicDF=demographicDF_cleaned.merge(customerDF,on='INDIVIDUAL_ID')"
   ]
  },
  {
   "cell_type": "markdown",
   "metadata": {},
   "source": [
    "Then we need to create a column that represents the sum of all the columns. In order to predict the value as total."
   ]
  },
  {
   "cell_type": "code",
   "execution_count": null,
   "metadata": {
    "tags": []
   },
   "outputs": [],
   "source": [
    "customer_demographicDF['CUSTOMER_VALUE']=customer_demographicDF['CURR_ANN_AMT_CAR']+customer_demographicDF['CURR_ANN_AMT_HOUSE']+customer_demographicDF['CURR_ANN_AMT_HEALTH']"
   ]
  },
  {
   "cell_type": "markdown",
   "metadata": {
    "tags": []
   },
   "source": [
    "#### Q2.1 Build a baseline model to estimate the costumer value based on their characteristics. (15 points)"
   ]
  },
  {
   "cell_type": "code",
   "execution_count": null,
   "metadata": {
    "tags": []
   },
   "outputs": [
    {
     "name": "stdout",
     "output_type": "stream",
     "text": [
      "Mean Squared Error: 189108.31647363055\n"
     ]
    }
   ],
   "source": [
    "# Select features (independent variables) and target variable\n",
    "X = customer_demographicDF[['INCOME','HAS_CHILDREN','LENGTH_OF_RESIDENCE','HOME_OWNER','COLLEGE_DEGREE','GOOD_CREDIT','MARITAL_STATUS_Married','ADVANCED_STUDIES_ENCODED','MARITAL_STATUS_Single']]  # Replace with your actual feature names\n",
    "y = customer_demographicDF['CUSTOMER_VALUE']\n",
    "\n",
    "# Create a multiple linear regression model\n",
    "model = LinearRegression()\n",
    "\n",
    "# Fit the model\n",
    "model.fit(X, y)\n",
    "\n",
    "# Make predictions\n",
    "predictions = model.predict(X)\n",
    "\n",
    "# Evaluate the baseline model's performance\n",
    "mse = mean_squared_error(y, predictions)\n",
    "\n",
    "print(\"Mean Squared Error:\", mse)\n"
   ]
  },
  {
   "cell_type": "markdown",
   "metadata": {},
   "source": [
    "#### Q2.2 Build a second model to estimate the costumer value based on their characteristics and compare model performance. (10 points)"
   ]
  },
  {
   "cell_type": "code",
   "execution_count": null,
   "metadata": {
    "tags": []
   },
   "outputs": [
    {
     "ename": "KeyboardInterrupt",
     "evalue": "",
     "output_type": "error",
     "traceback": [
      "\u001b[0;31m---------------------------------------------------------------------------\u001b[0m",
      "\u001b[0;31mKeyboardInterrupt\u001b[0m                         Traceback (most recent call last)",
      "Cell \u001b[0;32mIn[39], line 28\u001b[0m\n\u001b[1;32m     25\u001b[0m model_gb \u001b[38;5;241m=\u001b[39m GradientBoostingRegressor()\n\u001b[1;32m     27\u001b[0m \u001b[38;5;66;03m# Fit the model\u001b[39;00m\n\u001b[0;32m---> 28\u001b[0m \u001b[43mmodel_gb\u001b[49m\u001b[38;5;241;43m.\u001b[39;49m\u001b[43mfit\u001b[49m\u001b[43m(\u001b[49m\u001b[43mX\u001b[49m\u001b[43m,\u001b[49m\u001b[43m \u001b[49m\u001b[43my\u001b[49m\u001b[43m)\u001b[49m\n\u001b[1;32m     30\u001b[0m \u001b[38;5;66;03m# Make predictions\u001b[39;00m\n\u001b[1;32m     31\u001b[0m predictions_gb \u001b[38;5;241m=\u001b[39m model_gb\u001b[38;5;241m.\u001b[39mpredict(X)\n",
      "File \u001b[0;32m/Library/Frameworks/Python.framework/Versions/3.11/lib/python3.11/site-packages/sklearn/base.py:1152\u001b[0m, in \u001b[0;36m_fit_context.<locals>.decorator.<locals>.wrapper\u001b[0;34m(estimator, *args, **kwargs)\u001b[0m\n\u001b[1;32m   1145\u001b[0m     estimator\u001b[38;5;241m.\u001b[39m_validate_params()\n\u001b[1;32m   1147\u001b[0m \u001b[38;5;28;01mwith\u001b[39;00m config_context(\n\u001b[1;32m   1148\u001b[0m     skip_parameter_validation\u001b[38;5;241m=\u001b[39m(\n\u001b[1;32m   1149\u001b[0m         prefer_skip_nested_validation \u001b[38;5;129;01mor\u001b[39;00m global_skip_validation\n\u001b[1;32m   1150\u001b[0m     )\n\u001b[1;32m   1151\u001b[0m ):\n\u001b[0;32m-> 1152\u001b[0m     \u001b[38;5;28;01mreturn\u001b[39;00m \u001b[43mfit_method\u001b[49m\u001b[43m(\u001b[49m\u001b[43mestimator\u001b[49m\u001b[43m,\u001b[49m\u001b[43m \u001b[49m\u001b[38;5;241;43m*\u001b[39;49m\u001b[43margs\u001b[49m\u001b[43m,\u001b[49m\u001b[43m \u001b[49m\u001b[38;5;241;43m*\u001b[39;49m\u001b[38;5;241;43m*\u001b[39;49m\u001b[43mkwargs\u001b[49m\u001b[43m)\u001b[49m\n",
      "File \u001b[0;32m/Library/Frameworks/Python.framework/Versions/3.11/lib/python3.11/site-packages/sklearn/ensemble/_gb.py:532\u001b[0m, in \u001b[0;36mBaseGradientBoosting.fit\u001b[0;34m(self, X, y, sample_weight, monitor)\u001b[0m\n\u001b[1;32m    529\u001b[0m     \u001b[38;5;28mself\u001b[39m\u001b[38;5;241m.\u001b[39m_resize_state()\n\u001b[1;32m    531\u001b[0m \u001b[38;5;66;03m# fit the boosting stages\u001b[39;00m\n\u001b[0;32m--> 532\u001b[0m n_stages \u001b[38;5;241m=\u001b[39m \u001b[38;5;28;43mself\u001b[39;49m\u001b[38;5;241;43m.\u001b[39;49m\u001b[43m_fit_stages\u001b[49m\u001b[43m(\u001b[49m\n\u001b[1;32m    533\u001b[0m \u001b[43m    \u001b[49m\u001b[43mX_train\u001b[49m\u001b[43m,\u001b[49m\n\u001b[1;32m    534\u001b[0m \u001b[43m    \u001b[49m\u001b[43my_train\u001b[49m\u001b[43m,\u001b[49m\n\u001b[1;32m    535\u001b[0m \u001b[43m    \u001b[49m\u001b[43mraw_predictions\u001b[49m\u001b[43m,\u001b[49m\n\u001b[1;32m    536\u001b[0m \u001b[43m    \u001b[49m\u001b[43msample_weight_train\u001b[49m\u001b[43m,\u001b[49m\n\u001b[1;32m    537\u001b[0m \u001b[43m    \u001b[49m\u001b[38;5;28;43mself\u001b[39;49m\u001b[38;5;241;43m.\u001b[39;49m\u001b[43m_rng\u001b[49m\u001b[43m,\u001b[49m\n\u001b[1;32m    538\u001b[0m \u001b[43m    \u001b[49m\u001b[43mX_val\u001b[49m\u001b[43m,\u001b[49m\n\u001b[1;32m    539\u001b[0m \u001b[43m    \u001b[49m\u001b[43my_val\u001b[49m\u001b[43m,\u001b[49m\n\u001b[1;32m    540\u001b[0m \u001b[43m    \u001b[49m\u001b[43msample_weight_val\u001b[49m\u001b[43m,\u001b[49m\n\u001b[1;32m    541\u001b[0m \u001b[43m    \u001b[49m\u001b[43mbegin_at_stage\u001b[49m\u001b[43m,\u001b[49m\n\u001b[1;32m    542\u001b[0m \u001b[43m    \u001b[49m\u001b[43mmonitor\u001b[49m\u001b[43m,\u001b[49m\n\u001b[1;32m    543\u001b[0m \u001b[43m\u001b[49m\u001b[43m)\u001b[49m\n\u001b[1;32m    545\u001b[0m \u001b[38;5;66;03m# change shape of arrays after fit (early-stopping or additional ests)\u001b[39;00m\n\u001b[1;32m    546\u001b[0m \u001b[38;5;28;01mif\u001b[39;00m n_stages \u001b[38;5;241m!=\u001b[39m \u001b[38;5;28mself\u001b[39m\u001b[38;5;241m.\u001b[39mestimators_\u001b[38;5;241m.\u001b[39mshape[\u001b[38;5;241m0\u001b[39m]:\n",
      "File \u001b[0;32m/Library/Frameworks/Python.framework/Versions/3.11/lib/python3.11/site-packages/sklearn/ensemble/_gb.py:610\u001b[0m, in \u001b[0;36mBaseGradientBoosting._fit_stages\u001b[0;34m(self, X, y, raw_predictions, sample_weight, random_state, X_val, y_val, sample_weight_val, begin_at_stage, monitor)\u001b[0m\n\u001b[1;32m    603\u001b[0m         initial_loss \u001b[38;5;241m=\u001b[39m loss_(\n\u001b[1;32m    604\u001b[0m             y[\u001b[38;5;241m~\u001b[39msample_mask],\n\u001b[1;32m    605\u001b[0m             raw_predictions[\u001b[38;5;241m~\u001b[39msample_mask],\n\u001b[1;32m    606\u001b[0m             sample_weight[\u001b[38;5;241m~\u001b[39msample_mask],\n\u001b[1;32m    607\u001b[0m         )\n\u001b[1;32m    609\u001b[0m \u001b[38;5;66;03m# fit next stage of trees\u001b[39;00m\n\u001b[0;32m--> 610\u001b[0m raw_predictions \u001b[38;5;241m=\u001b[39m \u001b[38;5;28;43mself\u001b[39;49m\u001b[38;5;241;43m.\u001b[39;49m\u001b[43m_fit_stage\u001b[49m\u001b[43m(\u001b[49m\n\u001b[1;32m    611\u001b[0m \u001b[43m    \u001b[49m\u001b[43mi\u001b[49m\u001b[43m,\u001b[49m\n\u001b[1;32m    612\u001b[0m \u001b[43m    \u001b[49m\u001b[43mX\u001b[49m\u001b[43m,\u001b[49m\n\u001b[1;32m    613\u001b[0m \u001b[43m    \u001b[49m\u001b[43my\u001b[49m\u001b[43m,\u001b[49m\n\u001b[1;32m    614\u001b[0m \u001b[43m    \u001b[49m\u001b[43mraw_predictions\u001b[49m\u001b[43m,\u001b[49m\n\u001b[1;32m    615\u001b[0m \u001b[43m    \u001b[49m\u001b[43msample_weight\u001b[49m\u001b[43m,\u001b[49m\n\u001b[1;32m    616\u001b[0m \u001b[43m    \u001b[49m\u001b[43msample_mask\u001b[49m\u001b[43m,\u001b[49m\n\u001b[1;32m    617\u001b[0m \u001b[43m    \u001b[49m\u001b[43mrandom_state\u001b[49m\u001b[43m,\u001b[49m\n\u001b[1;32m    618\u001b[0m \u001b[43m    \u001b[49m\u001b[43mX_csc\u001b[49m\u001b[43m,\u001b[49m\n\u001b[1;32m    619\u001b[0m \u001b[43m    \u001b[49m\u001b[43mX_csr\u001b[49m\u001b[43m,\u001b[49m\n\u001b[1;32m    620\u001b[0m \u001b[43m\u001b[49m\u001b[43m)\u001b[49m\n\u001b[1;32m    622\u001b[0m \u001b[38;5;66;03m# track loss\u001b[39;00m\n\u001b[1;32m    623\u001b[0m \u001b[38;5;28;01mif\u001b[39;00m do_oob:\n",
      "File \u001b[0;32m/Library/Frameworks/Python.framework/Versions/3.11/lib/python3.11/site-packages/sklearn/ensemble/_gb.py:245\u001b[0m, in \u001b[0;36mBaseGradientBoosting._fit_stage\u001b[0;34m(self, i, X, y, raw_predictions, sample_weight, sample_mask, random_state, X_csc, X_csr)\u001b[0m\n\u001b[1;32m    242\u001b[0m     sample_weight \u001b[38;5;241m=\u001b[39m sample_weight \u001b[38;5;241m*\u001b[39m sample_mask\u001b[38;5;241m.\u001b[39mastype(np\u001b[38;5;241m.\u001b[39mfloat64)\n\u001b[1;32m    244\u001b[0m X \u001b[38;5;241m=\u001b[39m X_csr \u001b[38;5;28;01mif\u001b[39;00m X_csr \u001b[38;5;129;01mis\u001b[39;00m \u001b[38;5;129;01mnot\u001b[39;00m \u001b[38;5;28;01mNone\u001b[39;00m \u001b[38;5;28;01melse\u001b[39;00m X\n\u001b[0;32m--> 245\u001b[0m \u001b[43mtree\u001b[49m\u001b[38;5;241;43m.\u001b[39;49m\u001b[43mfit\u001b[49m\u001b[43m(\u001b[49m\u001b[43mX\u001b[49m\u001b[43m,\u001b[49m\u001b[43m \u001b[49m\u001b[43mresidual\u001b[49m\u001b[43m,\u001b[49m\u001b[43m \u001b[49m\u001b[43msample_weight\u001b[49m\u001b[38;5;241;43m=\u001b[39;49m\u001b[43msample_weight\u001b[49m\u001b[43m,\u001b[49m\u001b[43m \u001b[49m\u001b[43mcheck_input\u001b[49m\u001b[38;5;241;43m=\u001b[39;49m\u001b[38;5;28;43;01mFalse\u001b[39;49;00m\u001b[43m)\u001b[49m\n\u001b[1;32m    247\u001b[0m \u001b[38;5;66;03m# update tree leaves\u001b[39;00m\n\u001b[1;32m    248\u001b[0m loss\u001b[38;5;241m.\u001b[39mupdate_terminal_regions(\n\u001b[1;32m    249\u001b[0m     tree\u001b[38;5;241m.\u001b[39mtree_,\n\u001b[1;32m    250\u001b[0m     X,\n\u001b[0;32m   (...)\u001b[0m\n\u001b[1;32m    257\u001b[0m     k\u001b[38;5;241m=\u001b[39mk,\n\u001b[1;32m    258\u001b[0m )\n",
      "File \u001b[0;32m/Library/Frameworks/Python.framework/Versions/3.11/lib/python3.11/site-packages/sklearn/base.py:1152\u001b[0m, in \u001b[0;36m_fit_context.<locals>.decorator.<locals>.wrapper\u001b[0;34m(estimator, *args, **kwargs)\u001b[0m\n\u001b[1;32m   1145\u001b[0m     estimator\u001b[38;5;241m.\u001b[39m_validate_params()\n\u001b[1;32m   1147\u001b[0m \u001b[38;5;28;01mwith\u001b[39;00m config_context(\n\u001b[1;32m   1148\u001b[0m     skip_parameter_validation\u001b[38;5;241m=\u001b[39m(\n\u001b[1;32m   1149\u001b[0m         prefer_skip_nested_validation \u001b[38;5;129;01mor\u001b[39;00m global_skip_validation\n\u001b[1;32m   1150\u001b[0m     )\n\u001b[1;32m   1151\u001b[0m ):\n\u001b[0;32m-> 1152\u001b[0m     \u001b[38;5;28;01mreturn\u001b[39;00m \u001b[43mfit_method\u001b[49m\u001b[43m(\u001b[49m\u001b[43mestimator\u001b[49m\u001b[43m,\u001b[49m\u001b[43m \u001b[49m\u001b[38;5;241;43m*\u001b[39;49m\u001b[43margs\u001b[49m\u001b[43m,\u001b[49m\u001b[43m \u001b[49m\u001b[38;5;241;43m*\u001b[39;49m\u001b[38;5;241;43m*\u001b[39;49m\u001b[43mkwargs\u001b[49m\u001b[43m)\u001b[49m\n",
      "File \u001b[0;32m/Library/Frameworks/Python.framework/Versions/3.11/lib/python3.11/site-packages/sklearn/tree/_classes.py:1320\u001b[0m, in \u001b[0;36mDecisionTreeRegressor.fit\u001b[0;34m(self, X, y, sample_weight, check_input)\u001b[0m\n\u001b[1;32m   1290\u001b[0m \u001b[38;5;129m@_fit_context\u001b[39m(prefer_skip_nested_validation\u001b[38;5;241m=\u001b[39m\u001b[38;5;28;01mTrue\u001b[39;00m)\n\u001b[1;32m   1291\u001b[0m \u001b[38;5;28;01mdef\u001b[39;00m \u001b[38;5;21mfit\u001b[39m(\u001b[38;5;28mself\u001b[39m, X, y, sample_weight\u001b[38;5;241m=\u001b[39m\u001b[38;5;28;01mNone\u001b[39;00m, check_input\u001b[38;5;241m=\u001b[39m\u001b[38;5;28;01mTrue\u001b[39;00m):\n\u001b[1;32m   1292\u001b[0m \u001b[38;5;250m    \u001b[39m\u001b[38;5;124;03m\"\"\"Build a decision tree regressor from the training set (X, y).\u001b[39;00m\n\u001b[1;32m   1293\u001b[0m \n\u001b[1;32m   1294\u001b[0m \u001b[38;5;124;03m    Parameters\u001b[39;00m\n\u001b[0;32m   (...)\u001b[0m\n\u001b[1;32m   1317\u001b[0m \u001b[38;5;124;03m        Fitted estimator.\u001b[39;00m\n\u001b[1;32m   1318\u001b[0m \u001b[38;5;124;03m    \"\"\"\u001b[39;00m\n\u001b[0;32m-> 1320\u001b[0m     \u001b[38;5;28;43msuper\u001b[39;49m\u001b[43m(\u001b[49m\u001b[43m)\u001b[49m\u001b[38;5;241;43m.\u001b[39;49m\u001b[43m_fit\u001b[49m\u001b[43m(\u001b[49m\n\u001b[1;32m   1321\u001b[0m \u001b[43m        \u001b[49m\u001b[43mX\u001b[49m\u001b[43m,\u001b[49m\n\u001b[1;32m   1322\u001b[0m \u001b[43m        \u001b[49m\u001b[43my\u001b[49m\u001b[43m,\u001b[49m\n\u001b[1;32m   1323\u001b[0m \u001b[43m        \u001b[49m\u001b[43msample_weight\u001b[49m\u001b[38;5;241;43m=\u001b[39;49m\u001b[43msample_weight\u001b[49m\u001b[43m,\u001b[49m\n\u001b[1;32m   1324\u001b[0m \u001b[43m        \u001b[49m\u001b[43mcheck_input\u001b[49m\u001b[38;5;241;43m=\u001b[39;49m\u001b[43mcheck_input\u001b[49m\u001b[43m,\u001b[49m\n\u001b[1;32m   1325\u001b[0m \u001b[43m    \u001b[49m\u001b[43m)\u001b[49m\n\u001b[1;32m   1326\u001b[0m     \u001b[38;5;28;01mreturn\u001b[39;00m \u001b[38;5;28mself\u001b[39m\n",
      "File \u001b[0;32m/Library/Frameworks/Python.framework/Versions/3.11/lib/python3.11/site-packages/sklearn/tree/_classes.py:443\u001b[0m, in \u001b[0;36mBaseDecisionTree._fit\u001b[0;34m(self, X, y, sample_weight, check_input, missing_values_in_feature_mask)\u001b[0m\n\u001b[1;32m    432\u001b[0m \u001b[38;5;28;01melse\u001b[39;00m:\n\u001b[1;32m    433\u001b[0m     builder \u001b[38;5;241m=\u001b[39m BestFirstTreeBuilder(\n\u001b[1;32m    434\u001b[0m         splitter,\n\u001b[1;32m    435\u001b[0m         min_samples_split,\n\u001b[0;32m   (...)\u001b[0m\n\u001b[1;32m    440\u001b[0m         \u001b[38;5;28mself\u001b[39m\u001b[38;5;241m.\u001b[39mmin_impurity_decrease,\n\u001b[1;32m    441\u001b[0m     )\n\u001b[0;32m--> 443\u001b[0m \u001b[43mbuilder\u001b[49m\u001b[38;5;241;43m.\u001b[39;49m\u001b[43mbuild\u001b[49m\u001b[43m(\u001b[49m\u001b[38;5;28;43mself\u001b[39;49m\u001b[38;5;241;43m.\u001b[39;49m\u001b[43mtree_\u001b[49m\u001b[43m,\u001b[49m\u001b[43m \u001b[49m\u001b[43mX\u001b[49m\u001b[43m,\u001b[49m\u001b[43m \u001b[49m\u001b[43my\u001b[49m\u001b[43m,\u001b[49m\u001b[43m \u001b[49m\u001b[43msample_weight\u001b[49m\u001b[43m,\u001b[49m\u001b[43m \u001b[49m\u001b[43mmissing_values_in_feature_mask\u001b[49m\u001b[43m)\u001b[49m\n\u001b[1;32m    445\u001b[0m \u001b[38;5;28;01mif\u001b[39;00m \u001b[38;5;28mself\u001b[39m\u001b[38;5;241m.\u001b[39mn_outputs_ \u001b[38;5;241m==\u001b[39m \u001b[38;5;241m1\u001b[39m \u001b[38;5;129;01mand\u001b[39;00m is_classifier(\u001b[38;5;28mself\u001b[39m):\n\u001b[1;32m    446\u001b[0m     \u001b[38;5;28mself\u001b[39m\u001b[38;5;241m.\u001b[39mn_classes_ \u001b[38;5;241m=\u001b[39m \u001b[38;5;28mself\u001b[39m\u001b[38;5;241m.\u001b[39mn_classes_[\u001b[38;5;241m0\u001b[39m]\n",
      "\u001b[0;31mKeyboardInterrupt\u001b[0m: "
     ]
    }
   ],
   "source": [
    "from sklearn.ensemble import RandomForestRegressor\n",
    "from sklearn.ensemble import GradientBoostingRegressor\n",
    "\n",
    "# Select features (independent variables) and target variable\n",
    "X = customer_demographicDF[['INCOME','HAS_CHILDREN','LENGTH_OF_RESIDENCE','HOME_OWNER','COLLEGE_DEGREE','GOOD_CREDIT','MARITAL_STATUS_Married','ADVANCED_STUDIES_ENCODED','MARITAL_STATUS_Single']]  # Replace with your actual feature names\n",
    "y = customer_demographicDF['CUSTOMER_VALUE']\n",
    "\n",
    "# Create a Random Forest regression model\n",
    "model_rf = RandomForestRegressor()\n",
    "\n",
    "# Fit the model\n",
    "model_rf.fit(X, y)\n",
    "\n",
    "# Make predictions\n",
    "predictions_rf = model_rf.predict(X)\n",
    "\n",
    "# Evaluate the Random Forest model's performance\n",
    "mse_rf = mean_squared_error(y, predictions_rf)\n",
    "\n",
    "# Select features (independent variables) and target variable\n",
    "X = customer_demographicDF[['INCOME','HAS_CHILDREN','LENGTH_OF_RESIDENCE','HOME_OWNER','COLLEGE_DEGREE','GOOD_CREDIT','MARITAL_STATUS_Married','ADVANCED_STUDIES_ENCODED','MARITAL_STATUS_Single']]  # Replace with your actual feature names\n",
    "y = customer_demographicDF['CUSTOMER_VALUE']\n",
    "\n",
    "# Create a Gradient Boosting regression model\n",
    "model_gb = GradientBoostingRegressor()\n",
    "\n",
    "# Fit the model\n",
    "model_gb.fit(X, y)\n",
    "\n",
    "# Make predictions\n",
    "predictions_gb = model_gb.predict(X)\n",
    "\n",
    "# Evaluate the Gradient Boosting model's performance\n",
    "mse_gb = mean_squared_error(y, predictions_gb)\n",
    "\n",
    "print(\"Mean Squared Error (Gradient Boosting):\", mse_gb)\n",
    "print(\"Mean Squared Error (Random Forest):\", mse_rf)\n"
   ]
  },
  {
   "cell_type": "markdown",
   "metadata": {},
   "source": [
    "#### Q2.3 Based on the analysis, suggest a model to the head of marketing and an application scenario. Please justify your decisions. (10 points)"
   ]
  },
  {
   "cell_type": "code",
   "execution_count": null,
   "metadata": {
    "collapsed": true,
    "jupyter": {
     "outputs_hidden": true
    }
   },
   "outputs": [],
   "source": []
  },
  {
   "cell_type": "markdown",
   "metadata": {},
   "source": [
    "## Question 3: Churn Analysis and Prevention Strategy (35 points)\n",
    "\n",
    "#### Background: Customer retention is a significant concern for ABC Insurance. The df_termination dataset indicates customers who have recently suspended their policies, providing a basis for analyzing churn."
   ]
  },
  {
   "cell_type": "markdown",
   "metadata": {},
   "source": [
    "#### Q3.1 Build a baseline model to predict customers that will churn. (15 points)"
   ]
  },
  {
   "cell_type": "code",
   "execution_count": null,
   "metadata": {
    "collapsed": true,
    "jupyter": {
     "outputs_hidden": true
    }
   },
   "outputs": [],
   "source": [
    "#create a column in thewrmiantion df that says 1 to termination and 0 when joied in the custoemr df (via fillna)"
   ]
  },
  {
   "cell_type": "markdown",
   "metadata": {},
   "source": [
    "#### Q3.2 Build a second model and compare the model performance. (15 points)"
   ]
  },
  {
   "cell_type": "code",
   "execution_count": null,
   "metadata": {
    "collapsed": true,
    "jupyter": {
     "outputs_hidden": true
    }
   },
   "outputs": [],
   "source": []
  },
  {
   "cell_type": "markdown",
   "metadata": {},
   "source": [
    "#### Q3.3 Based on the analysis, suggest a model to the head of marketing and an application scenario. Please justify your decisions. (10 points)"
   ]
  },
  {
   "cell_type": "code",
   "execution_count": null,
   "metadata": {
    "collapsed": true,
    "jupyter": {
     "outputs_hidden": true
    },
    "tags": []
   },
   "outputs": [],
   "source": []
  }
 ],
 "metadata": {
  "kernelspec": {
   "display_name": "Python 3 (ipykernel)",
   "language": "python",
   "name": "python3"
  },
  "language_info": {
   "codemirror_mode": {
    "name": "ipython",
    "version": 3
   },
   "file_extension": ".py",
   "mimetype": "text/x-python",
   "name": "python",
   "nbconvert_exporter": "python",
   "pygments_lexer": "ipython3",
   "version": "3.11.0"
  }
 },
 "nbformat": 4,
 "nbformat_minor": 4
}
